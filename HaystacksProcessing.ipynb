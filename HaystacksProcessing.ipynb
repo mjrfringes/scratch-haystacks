{
 "cells": [
  {
   "cell_type": "code",
   "execution_count": 1,
   "metadata": {
    "collapsed": true
   },
   "outputs": [],
   "source": [
    "from astropy.io import fits\n",
    "import numpy as np\n",
    "import astropy.units as u\n",
    "import astropy.constants as const\n"
   ]
  },
  {
   "cell_type": "code",
   "execution_count": 2,
   "metadata": {
    "collapsed": false
   },
   "outputs": [],
   "source": [
    "filename = 'cube_zodi10inc0dist3_epoch25.7300_sres150.000_0.6um.fits'\n",
    "cube = fits.open(filename)[0].data\n",
    "\n",
    "maxlam = 1.2\n",
    "minlam = 0.6\n",
    "R = 150\n",
    "dlam = (maxlam+minlam)/2./R\n",
    "lamlist = np.arange(minlam,maxlam,dlam)\n",
    "dist_pc = 3\n",
    "pix_scale_au = 0.057*dist_pc/4\n",
    "asec_per_pix = pix_scale_au/dist_pc\n",
    "res_asec = 0.057\n",
    "OWA_880 = 0.076*20\n",
    "OWA_pix = OWA_880/asec_per_pix\n"
   ]
  },
  {
   "cell_type": "code",
   "execution_count": 3,
   "metadata": {
    "collapsed": true
   },
   "outputs": [],
   "source": [
    "cube = cube*u.Jy"
   ]
  },
  {
   "cell_type": "code",
   "execution_count": 4,
   "metadata": {
    "collapsed": true
   },
   "outputs": [],
   "source": [
    "def rebin(a, shape):\n",
    "    sh = shape[0],a.shape[0]//shape[0],shape[1],a.shape[1]//shape[1]\n",
    "    return a.reshape(sh).sum(-1).sum(1)\n"
   ]
  },
  {
   "cell_type": "code",
   "execution_count": null,
   "metadata": {
    "collapsed": true
   },
   "outputs": [],
   "source": []
  },
  {
   "cell_type": "code",
   "execution_count": 5,
   "metadata": {
    "collapsed": false
   },
   "outputs": [],
   "source": [
    "minlam661 = (0.661-0.061/2.)*u.micron\n",
    "maxlam661 = (0.661+0.061/2.)*u.micron\n",
    "minlam721 = (0.721-0.036/2.)*u.micron\n",
    "maxlam721 = (0.721+0.036/2.)*u.micron\n",
    "minlam890 = (0.890-0.0445/2.)*u.micron\n",
    "maxlam890 = (0.890+0.0445/2.)*u.micron\n",
    "F661 = cube[np.where((lamlist>minlam661.value)*(lamlist<maxlam661.value))[0],:,:]\n",
    "F721 = cube[np.where((lamlist>minlam721.value)*(lamlist<maxlam721.value))[0],:,:]\n",
    "F890 = cube[np.where((lamlist>minlam890.value)*(lamlist<maxlam890.value))[0],:,:]\n",
    "F661_flat = np.mean(F661,axis=0)\n",
    "F721_flat = np.mean(F721,axis=0)\n",
    "F890_flat = np.mean(F890,axis=0)"
   ]
  },
  {
   "cell_type": "code",
   "execution_count": null,
   "metadata": {
    "collapsed": false
   },
   "outputs": [],
   "source": []
  },
  {
   "cell_type": "markdown",
   "metadata": {
    "collapsed": false
   },
   "source": [
    "### Crop image and convert to photons per second    "
   ]
  },
  {
   "cell_type": "code",
   "execution_count": 6,
   "metadata": {
    "collapsed": false
   },
   "outputs": [
    {
     "name": "stdout",
     "output_type": "stream",
     "text": [
      "301 301\n"
     ]
    },
    {
     "name": "stderr",
     "output_type": "stream",
     "text": [
      "/Users/mrizzo/anaconda/lib/python3.5/site-packages/astropy/units/quantity.py:913: VisibleDeprecationWarning: using a non-integer number instead of an integer will result in an error in the future\n",
      "  out = super(Quantity, self).__getitem__(key)\n"
     ]
    }
   ],
   "source": [
    "\n",
    "xdim,ydim = F661_flat.shape\n",
    "print (xdim,ydim)\n",
    "xmin = xdim/2-OWA_pix\n",
    "xmax = xdim/2+OWA_pix\n",
    "ymin = ydim/2-OWA_pix\n",
    "ymax = ydim/2+OWA_pix\n",
    "F661 = F661_flat[xmin:xmax,ymin:ymax]\n",
    "F721 = F721_flat[xmin:xmax,ymin:ymax]\n",
    "F890 = F890_flat[xmin:xmax,ymin:ymax]\n",
    "\n",
    "\n",
    "dnu661 = (const.c/minlam661).to(u.Hz) - (const.c/maxlam661).to(u.Hz)\n",
    "dnu721 = (const.c/minlam721).to(u.Hz) - (const.c/maxlam721).to(u.Hz)\n",
    "dnu890 = (const.c/minlam890).to(u.Hz) - (const.c/maxlam890).to(u.Hz)\n",
    "ep661 = (const.h*const.c/(661*u.nm)).to(u.J)\n",
    "ep721 = (const.h*const.c/(721*u.nm)).to(u.J)\n",
    "ep890 = (const.h*const.c/(890*u.nm)).to(u.J)\n",
    "A = np.pi*(2.4*u.m)**2/4.\n",
    "F661*=dnu661/ep661*A\n",
    "F721*=dnu721/ep721*A\n",
    "F890*=dnu890/ep890*A\n",
    "F661=F661.to(u.Hz)\n",
    "F721=F721.to(u.Hz)\n",
    "F890=F890.to(u.Hz)\n",
    "\n",
    "export = np.zeros((3,F661.shape[0],F661.shape[1]))\n",
    "export [0,:,:] += F661.value\n",
    "export [1,:,:] += F721.value\n",
    "export [2,:,:] += F890.value\n"
   ]
  },
  {
   "cell_type": "code",
   "execution_count": 7,
   "metadata": {
    "collapsed": false
   },
   "outputs": [
    {
     "data": {
      "text/plain": [
       "(214, 214)"
      ]
     },
     "execution_count": 7,
     "metadata": {},
     "output_type": "execute_result"
    }
   ],
   "source": [
    "F661.shape"
   ]
  },
  {
   "cell_type": "code",
   "execution_count": 8,
   "metadata": {
    "collapsed": false
   },
   "outputs": [],
   "source": [
    "out = fits.PrimaryHDU(F661.value)\n",
    "out.writeto('F661.fits',clobber=True)\n",
    "out = fits.PrimaryHDU(export)\n",
    "out.writeto(filename+'proc.fits',clobber=True)\n",
    "out = fits.PrimaryHDU(F721.value)\n",
    "out.writeto('F721.fits',clobber=True)\n",
    "out = fits.PrimaryHDU(F890.value)\n",
    "out.writeto('F890.fits',clobber=True)"
   ]
  },
  {
   "cell_type": "code",
   "execution_count": null,
   "metadata": {
    "collapsed": true
   },
   "outputs": [],
   "source": []
  },
  {
   "cell_type": "code",
   "execution_count": 9,
   "metadata": {
    "collapsed": false
   },
   "outputs": [
    {
     "name": "stdout",
     "output_type": "stream",
     "text": [
      "Populating the interactive namespace from numpy and matplotlib\n"
     ]
    }
   ],
   "source": [
    "%pylab inline --no-import-all\n",
    "matplotlib.rcParams['image.origin'] = 'lower'\n",
    "matplotlib.rcParams['image.interpolation'] = 'nearest'"
   ]
  },
  {
   "cell_type": "code",
   "execution_count": 10,
   "metadata": {
    "collapsed": true
   },
   "outputs": [],
   "source": [
    "import os\n",
    "#os.environ['WEBBPSF_PATH'] = os.path.expanduser('~/STScI/WFIRST/webbpsf-data')\n",
    "import webbpsf\n",
    "from webbpsf import wfirst\n",
    "import ipywidgets\n",
    "import poppy.utils as utils\n",
    "import poppy\n",
    "import logging as log"
   ]
  },
  {
   "cell_type": "code",
   "execution_count": 11,
   "metadata": {
    "collapsed": false
   },
   "outputs": [
    {
     "name": "stdout",
     "output_type": "stream",
     "text": [
      "WebbPSF log messages of level ERROR and above will be shown.\n",
      "WebbPSF log outputs will be directed to the screen.\n"
     ]
    }
   ],
   "source": [
    "webbpsf.setup_logging('ERROR') # Reduced verbosity"
   ]
  },
  {
   "cell_type": "code",
   "execution_count": 12,
   "metadata": {
    "collapsed": true
   },
   "outputs": [],
   "source": [
    "def xy_to_psf(x, y, quad_cube):\n",
    "    hw = quad_cube.shape[-1] // 2\n",
    "    if x >= hw and y >= hw: # in first quadrant\n",
    "        s = (y - hw)*hw + (x - hw)\n",
    "        return quad_cube[s]\n",
    "    elif x < hw and y >= hw: # second quadrant\n",
    "        s = (y - hw)*hw + (hw - x - 1)\n",
    "        return quad_cube[s,:,::-1]\n",
    "    elif x < hw and y < hw: # third quadrant\n",
    "        s = (hw - y - 1)*hw + (hw - x - 1)\n",
    "        return quad_cube[s,::-1,::-1]\n",
    "    else:                 # fourth quadrant\n",
    "        s = (hw - y - 1)*hw + (x - hw)\n",
    "        return quad_cube[s,::-1,:]"
   ]
  },
  {
   "cell_type": "code",
   "execution_count": 13,
   "metadata": {
    "collapsed": false
   },
   "outputs": [
    {
     "name": "stdout",
     "output_type": "stream",
     "text": [
      "10.0% bandpass centered at 661.0 nm\n",
      "System diffraction resolution element scale (lambda_0/D): 0.05681 arcsec\n"
     ]
    }
   ],
   "source": [
    "fov = 3.4 # arcsec\n",
    "cgi_mode = 'DISKSPC_F661'\n",
    "#cgi_mode = 'DISKSPC_F72\n",
    "#cgi_mode = 'DISKSPC_F883'\n",
    "\n",
    "diskspc = wfirst.CGI(mode=cgi_mode)\n",
    "diskspc.options['source_offset_r'] = 0 # arcsec\n",
    "diskspc.options['source_offset_theta'] = 0 # deg w.r.t. North\n",
    "\n",
    "filter_fname = diskspc._filters[diskspc.filter].filename\n",
    "filter_hdulist = fits.open(filter_fname)\n",
    "wave_beg = (float(filter_hdulist[1].header.get('LAMBDA0')) - float(filter_hdulist[1].header.get('DELTALAM'))/2)\n",
    "wave_end = (float(filter_hdulist[1].header.get('LAMBDA0')) + float(filter_hdulist[1].header.get('DELTALAM'))/2)\n",
    "\n",
    "print('{:.1f}% bandpass centered at {:.1f} nm'.format(\n",
    "100*float(filter_hdulist[1].header.get('DELTALAM'))/float(filter_hdulist[1].header.get('LAMBDA0')),\n",
    "float(filter_hdulist[1].header.get('LAMBDA0'))/10))\n",
    "\n",
    "lamoD_asec_F661 = float(filter_hdulist[1].header.get('LAMBDA0'))*1e-10/(2*diskspc.PUPIL_RADIUS) * 180/np.pi * 3600\n",
    "print(\"System diffraction resolution element scale (lambda_0/D): %.5f arcsec\" % lamoD_asec_F661)"
   ]
  },
  {
   "cell_type": "code",
   "execution_count": 14,
   "metadata": {
    "collapsed": true
   },
   "outputs": [],
   "source": [
    "cgi_mode = 'DISKSPC_F661'\n",
    "#cgi_mode = 'DISKSPC_F721'\n",
    "#cgi_mode = 'DISKSPC_F883'\n",
    "\n",
    "diskspc = wfirst.CGI(mode=cgi_mode, pixelscale=lamoD_asec_F661, fov_arcsec=fov)"
   ]
  },
  {
   "cell_type": "markdown",
   "metadata": {},
   "source": [
    "# Load input cube"
   ]
  },
  {
   "cell_type": "code",
   "execution_count": 15,
   "metadata": {
    "collapsed": false
   },
   "outputs": [
    {
     "name": "stdout",
     "output_type": "stream",
     "text": [
      "[  3.74777644e+09   2.11167963e+09   2.16418894e+09]\n",
      "(3, 212, 212)\n"
     ]
    },
    {
     "data": {
      "text/plain": [
       "<matplotlib.text.Text at 0x119e722e8>"
      ]
     },
     "execution_count": 15,
     "metadata": {},
     "output_type": "execute_result"
    },
    {
     "data": {
      "image/png": "[encoded data removed]",
      "text/plain": [
       "<matplotlib.figure.Figure at 0x1124a7ef0>"
      ]
     },
     "metadata": {},
     "output_type": "display_data"
    }
   ],
   "source": [
    "haystacks = fits.open(filename+'proc.fits')\n",
    "\n",
    "#define adjustable cropping factor\n",
    "border=1\n",
    "input_cube = haystacks[0].data[:,border:-border,border:-border]#[:,90:-90,90:-90]#[:2,580:-580,580:-580]\n",
    "\n",
    "haystacks[0].header[\"INFITS\"] = filename+'proc.fits'\n",
    "haystacks[0].header[\"PIXELSCL\"] = asec_per_pix\n",
    "haystacks[0].header[\"BUNIT\"] = \"Jy\"\n",
    "\n",
    "#location of center from Ds9 inspection\n",
    "'''\n",
    "DS9 coordinate notes, corners are from 0.5-213.5 and center is at 108.\n",
    "\n",
    "in numpy coordinates the center is at 107,107\n",
    "\n",
    "'''\n",
    "\n",
    "center = (107-border)\n",
    "print(input_cube[:,center,center])\n",
    "print(input_cube.shape)\n",
    "\n",
    "# find parameters:\n",
    "dim = input_cube.shape\n",
    "\n",
    "ny = dim[1]\n",
    "nx = dim[2]\n",
    "haystacks[0].header\n",
    "\n",
    "\n",
    "\n",
    "haystack_1stBand = fits.HDUList([fits.PrimaryHDU(input_cube[0],\n",
    "                                                 header=haystacks[0].header)])\n",
    "ax=plt.subplot(111)\n",
    "poppy.display_PSF(haystack_1stBand,\n",
    "                  interpolation='nearest',ax=ax)\n",
    "circle2 = plt.Circle((0.015, 0.015), 0.057*6, color='black', fill=False,alpha=0.3)\n",
    "circle3 = plt.Circle((0.015, 0.015), 0.057*20, color='black', fill=False,alpha=0.3)\n",
    "\n",
    "ax.add_artist(circle2)\n",
    "ax.add_artist(circle3)\n",
    "\n",
    "\n",
    "plt.title(\"First band of data cube\")\n",
    "\n"
   ]
  },
  {
   "cell_type": "markdown",
   "metadata": {},
   "source": []
  },
  {
   "cell_type": "code",
   "execution_count": 16,
   "metadata": {
    "collapsed": false
   },
   "outputs": [
    {
     "name": "stdout",
     "output_type": "stream",
     "text": [
      "[ 0.  0.  0.]\n"
     ]
    }
   ],
   "source": [
    "contrast_floor=1e-11\n",
    "# thresh=contrast_floor*input_cube[:,center,center]\n",
    "thresh=np.zeros(3)\n",
    "# n_thresh=[cube[np.where(input_cube[i]>thresh[i])].size for i in range(len(thresh))]\n",
    "print (thresh)"
   ]
  },
  {
   "cell_type": "code",
   "execution_count": 17,
   "metadata": {
    "collapsed": false
   },
   "outputs": [
    {
     "data": {
      "text/plain": [
       "<matplotlib.colorbar.Colorbar at 0x11a862c18>"
      ]
     },
     "execution_count": 17,
     "metadata": {},
     "output_type": "execute_result"
    },
    {
     "data": {
      "image/png": "[encoded data removed]",
      "text/plain": [
       "<matplotlib.figure.Figure at 0x112497be0>"
      ]
     },
     "metadata": {},
     "output_type": "display_data"
    }
   ],
   "source": [
    "plt.figure(figsize=[9,4])\n",
    "plt.subplot(121)\n",
    "plt.title(\"cropped array\")\n",
    "plt.imshow(np.log10(input_cube[0]),\n",
    "           cmap=plt.cm.gnuplot,\n",
    "           origin = 'lower',\n",
    "           interpolation='nearest')\n",
    "plt.colorbar()\n",
    "plt.subplot(122)\n",
    "plt.title(\"values about threshold\")\n",
    "plt.imshow(input_cube[0],cmap=plt.cm.gnuplot,\n",
    "           interpolation='nearest',\n",
    "           vmin=thresh[0],\n",
    "           origin = 'lower',vmax=1)\n",
    "plt.colorbar()\n"
   ]
  },
  {
   "cell_type": "markdown",
   "metadata": {},
   "source": []
  },
  {
   "cell_type": "code",
   "execution_count": 18,
   "metadata": {
    "collapsed": true
   },
   "outputs": [],
   "source": [
    "mode_list = ['DISKSPC_F661','DISKSPC_F721','DISKSPC_F883']\n",
    "lib_list = ['offax_psf_map_DISKSPC_F661.fits.gz','offax_psf_map_DISKSPC_F721.fits.gz','offax_psf_map_DISKSPC_F883.fits.gz']"
   ]
  },
  {
   "cell_type": "code",
   "execution_count": 22,
   "metadata": {
    "collapsed": false
   },
   "outputs": [
    {
     "data": {
      "text/plain": [
       "SIMPLE  =                    T / conforms to FITS standard                      \n",
       "BITPIX  =                  -64 / array data type                                \n",
       "NAXIS   =                    2 / number of array dimensions                     \n",
       "NAXIS1  =                  256                                                  \n",
       "NAXIS2  =                  256                                                  \n",
       "EXTEND  =                    T                                                  \n",
       "BUNIT   = 'meter   '                                                            "
      ]
     },
     "execution_count": 22,
     "metadata": {},
     "output_type": "execute_result"
    }
   ],
   "source": [
    "ho_OPD_fname = os.path.join(os.environ['WEBBPSF_PATH'], \"CGI/OPD/CGI_static_test_OPD_D256_120pm.fits\")\n",
    "\n",
    "OPD_header = fits.getheader(ho_OPD_fname)\n",
    "OPD_header"
   ]
  },
  {
   "cell_type": "code",
   "execution_count": 77,
   "metadata": {
    "collapsed": false,
    "scrolled": true
   },
   "outputs": [
    {
     "name": "stdout",
     "output_type": "stream",
     "text": [
      "Processing mode DISKSPC_F661\n",
      "Looping over times\n",
      "0\n",
      "10\n",
      "20\n",
      "30\n",
      "40\n",
      "50\n",
      "60\n",
      "70\n",
      "80\n",
      "90\n",
      "Looping over the off-axis pixels\n",
      "Adding the central star\n",
      "Processing mode DISKSPC_F721\n",
      "Looping over times\n",
      "0\n",
      "10\n",
      "20\n",
      "30\n",
      "40\n",
      "50\n",
      "60\n",
      "70\n",
      "80\n",
      "90\n",
      "Looping over the off-axis pixels\n",
      "Adding the central star\n",
      "Processing mode DISKSPC_F883\n",
      "Looping over times\n",
      "0\n",
      "10\n",
      "20\n",
      "30\n",
      "40\n",
      "50\n",
      "60\n",
      "70\n",
      "80\n",
      "90\n",
      "Looping over the off-axis pixels\n",
      "Adding the central star\n"
     ]
    }
   ],
   "source": [
    "wavelength_imgs = []\n",
    "on_axis_psfs_ref=[]\n",
    "on_axis_psfs_obs=[]\n",
    "Nt = 100\n",
    "OPD_factor = 5\n",
    "for i in range(len(mode_list)):\n",
    "    mode = mode_list[i]\n",
    "    print('Processing mode ' + mode)\n",
    "    libpsf = fits.getdata(lib_list[i])\n",
    "    scratch_psf = xy_to_psf(0,0,libpsf)\n",
    "    \n",
    "    inputImage = input_cube[i,:,:]\n",
    "    # same scale for all bands\n",
    "    \n",
    "    diskspc = wfirst.CGI(mode=mode, pixelscale=lamoD_asec_F661, fov_arcsec=fov)\n",
    "    opd_cube_fname = '{:s}_OPD_cube_Nwf{:d}.fits.gz'.format(diskspc.mode, Nt)\n",
    "    opd = fits.getdata(opd_cube_fname)/OPD_factor\n",
    "    onax_psf_ref=np.zeros(scratch_psf.shape)\n",
    "    onax_psf_obs=np.zeros(scratch_psf.shape)\n",
    "    # the loop over time represents different realizations of the wavefront errors\n",
    "    # use the first 50 for the reference star, the last 50 for the observation\n",
    "    print(\"Looping over times\")\n",
    "    for t in range(Nt):\n",
    "        if t%10==0: print(t)\n",
    "        diskspc.pupilopd = fits.HDUList([fits.PrimaryHDU(opd[t], header=OPD_header)])\n",
    "        _, diskspc_onax_ab_wfs = diskspc.calc_psf(display=False, return_intermediates=True,\n",
    "                                                  fov_arcsec=fov)\n",
    "        if t<50:\n",
    "            onax_psf_ref += diskspc_onax_ab_wfs[-1].intensity\n",
    "        else:\n",
    "            onax_psf_obs += diskspc_onax_ab_wfs[-1].intensity\n",
    "    on_axis_psfs_ref.append(onax_psf_ref/50.*inputImage[center,center])\n",
    "    on_axis_psfs_obs.append(onax_psf_obs/50.*inputImage[center,center])\n",
    "    \n",
    "    \n",
    "    \n",
    "    outputImage = np.zeros(scratch_psf.shape)\n",
    "    center_libpsf = 240//2\n",
    "    \n",
    "    # now loop over all relevant pixels\n",
    "    print(\"Looping over the off-axis pixels\")\n",
    "    for x in range(-nx//2,-nx//2+nx):\n",
    "        for y in range(-ny//2,-ny//2+ny):\n",
    "            if x==0 and y==0:\n",
    "                print(\"Adding the central star\")\n",
    "                psf = onax_psf_obs/50.\n",
    "            else:\n",
    "                psf = xy_to_psf(x+center_libpsf,y+center_libpsf,libpsf)\n",
    "            outputImage += inputImage[y+center,x+center]*psf\n",
    "            \n",
    "    wavelength_imgs.append(outputImage)\n",
    "outcube = np.zeros((3,wavelength_imgs[0].shape[0],wavelength_imgs[0].shape[1]))    \n",
    "obscube = np.zeros((3,wavelength_imgs[0].shape[0],wavelength_imgs[0].shape[1]))    \n",
    "refcube = np.zeros((3,wavelength_imgs[0].shape[0],wavelength_imgs[0].shape[1]))    \n"
   ]
  },
  {
   "cell_type": "code",
   "execution_count": 78,
   "metadata": {
    "collapsed": false
   },
   "outputs": [],
   "source": [
    "# wavelength_imgs.append(np.zeros(scratch_psf.shape))\n",
    "# wavelength_imgs.append(np.zeros(scratch_psf.shape))\n",
    "# on_axis_psfs_ref.append(np.zeros(scratch_psf.shape))\n",
    "# on_axis_psfs_ref.append(np.zeros(scratch_psf.shape))\n",
    "# on_axis_psfs_obs.append(np.zeros(scratch_psf.shape))\n",
    "# on_axis_psfs_obs.append(np.zeros(scratch_psf.shape))\n",
    "\n",
    "for i in range(len(mode_list)):\n",
    "    obscube[2-i,:,:] = wavelength_imgs[i]   \n",
    "    refcube[2-i,:,:] = on_axis_psfs_ref[i]    \n",
    "    outcube[2-i,:,:] = on_axis_psfs_obs[i]   \n",
    "out = fits.HDUList([fits.PrimaryHDU(data=obscube)])\n",
    "out.writeto(filename+'obscube.fits',clobber=True)\n",
    "out = fits.HDUList([fits.PrimaryHDU(data=refcube)])\n",
    "out.writeto(filename+'refcube.fits',clobber=True)\n",
    "out = fits.HDUList([fits.PrimaryHDU(data=refcube)])\n",
    "out.writeto(filename+'outcube.fits',clobber=True)"
   ]
  },
  {
   "cell_type": "markdown",
   "metadata": {},
   "source": [
    "# add detector binning and Poisson noise"
   ]
  },
  {
   "cell_type": "code",
   "execution_count": 79,
   "metadata": {
    "collapsed": false
   },
   "outputs": [
    {
     "name": "stdout",
     "output_type": "stream",
     "text": [
      "[216 108 108]\n",
      "(3, 120, 120)\n"
     ]
    }
   ],
   "source": [
    "eff = 1.0 # overall CGI efficiency not captured by PSF model\n",
    "tottime = np.array([6*3600,3*3600,3*3600])\n",
    "#nframes = 1000\n",
    "#tint = tottime/float(nframes) # tot int time per frame\n",
    "tint = np.array([100,100,100]) # tot int time per frame\n",
    "nframes = tottime/tint\n",
    "nframes=nframes.astype(np.int)\n",
    "print(nframes)\n",
    "rebinfact = 2 # rebinning factor\n",
    "dark = 0.0#5e-4\n",
    "CIC=0.0#3e-3\n",
    "RN = 0.2\n",
    "krist_factor=[0.46,0.46,0.46]\n",
    "\n",
    "obscube = fits.getdata(filename+'obscube.fits')\n",
    "refcube = fits.getdata(filename+'refcube.fits')\n",
    "outcube2 = np.zeros((obscube.shape[0],obscube.shape[1]//rebinfact,obscube.shape[2]//rebinfact))\n",
    "refcube2 = np.zeros((obscube.shape[0],obscube.shape[1]//rebinfact,obscube.shape[2]//rebinfact))\n",
    "print(outcube2.shape)\n",
    "finalcube = np.zeros(outcube2.shape)\n",
    "finalvariance = np.zeros(outcube2.shape)\n",
    "for i in range(outcube.shape[0]):\n",
    "    outcube2[i,:,:] = rebin(obscube[i,:,:],(obscube.shape[1]//rebinfact,obscube.shape[2]//rebinfact))*krist_factor[i]*tint[i]\n",
    "    refcube2[i,:,:] = rebin(refcube[i,:,:],(obscube.shape[1]//rebinfact,obscube.shape[2]//rebinfact))*krist_factor[i]*tint[i]\n",
    "    for n in range(nframes[i]):\n",
    "        val = np.random.poisson(outcube2[i,:,:]+dark*tint[i]+CIC)+np.random.poisson(RN)\n",
    "        finalcube[i,:,:] += val\n",
    "        finalvariance[i,:,:] += val**2\n",
    "#         val = np.random.poisson(outcube2[j,:,:]+dark*tint[i]+CIC)+np.random.poisson(RN)\n",
    "#         finalcube[j,:,:] += outcube2[j,:,:]\n",
    "#         finalvariance[j,:,:] += val**2\n",
    "# for j in range(outcube.shape[0]):\n",
    "#     finalcube[j,:,:] = np.random.poisson(outcube2[j,:,:]+dark*tint+CIC)+np.random.poisson(RN)\n",
    "    finalcube[i] /= nframes[i]\n",
    "    finalvariance[i] /= nframes[i]\n",
    "    finalvariance[i] -= finalcube[i]**2\n",
    "\n",
    "out = fits.HDUList([fits.PrimaryHDU(data=finalcube)])\n",
    "#out.append(fits.PrimaryHDU(data=finalvariance))\n",
    "out.writeto('obs.fits',clobber=True)\n",
    "out = fits.HDUList([fits.PrimaryHDU(data=refcube2)])\n",
    "out.writeto('ref.fits',clobber=True)\n",
    "finalcube -= refcube2\n",
    "out = fits.HDUList([fits.PrimaryHDU(data=finalcube)])\n",
    "out.writeto('final.fits',clobber=True)\n"
   ]
  },
  {
   "cell_type": "markdown",
   "metadata": {
    "collapsed": true
   },
   "source": [
    "# Create RGB image"
   ]
  },
  {
   "cell_type": "code",
   "execution_count": 62,
   "metadata": {
    "collapsed": false
   },
   "outputs": [],
   "source": [
    "import aplpy"
   ]
  },
  {
   "cell_type": "code",
   "execution_count": 80,
   "metadata": {
    "collapsed": false
   },
   "outputs": [
    {
     "name": "stdout",
     "output_type": "stream",
     "text": [
      "INFO: Red: [aplpy.rgb]\n",
      "[astropy] Red:\n",
      "INFO: vmin = -4.000e+01 [aplpy.rgb]\n",
      "[astropy] vmin = -4.000e+01\n",
      "INFO: vmax =  4.000e+01 [aplpy.rgb]\n",
      "[astropy] vmax =  4.000e+01\n",
      "INFO: Green: [aplpy.rgb]\n",
      "[astropy] Green:\n",
      "INFO: vmin = -4.000e+01 [aplpy.rgb]\n",
      "[astropy] vmin = -4.000e+01\n",
      "INFO: vmax =  4.000e+01 [aplpy.rgb]\n",
      "[astropy] vmax =  4.000e+01\n",
      "INFO: Blue: [aplpy.rgb]\n",
      "[astropy] Blue:\n",
      "INFO: vmin = -4.000e+01 [aplpy.rgb]\n",
      "[astropy] vmin = -4.000e+01\n",
      "INFO: vmax =  4.000e+01 [aplpy.rgb]\n",
      "[astropy] vmax =  4.000e+01\n"
     ]
    },
    {
     "name": "stderr",
     "output_type": "stream",
     "text": [
      "/Users/mrizzo/anaconda/lib/python3.5/site-packages/aplpy/rgb.py:218: UserWarning: PyAVM 0.9.1 or later is not installed, so AVM tags will not be embedded in RGB image\n",
      "  warnings.warn(\"PyAVM 0.9.1 or later is not installed, so AVM tags will not be embedded in RGB image\")\n"
     ]
    }
   ],
   "source": [
    "aplpy.make_rgb_image('final.fits','test_rgb.png',vmin_r=-40,vmax_r=40,vmin_g=-40,vmax_g=40,vmin_b=-40,vmax_b=40)"
   ]
  },
  {
   "cell_type": "code",
   "execution_count": 82,
   "metadata": {
    "collapsed": false
   },
   "outputs": [],
   "source": [
    "cubeRGB = fits.getdata('final1.fits')\n",
    "out = fits.HDUList([fits.PrimaryHDU(data=cubeRGB[0,:,:])])\n",
    "out.writeto('R.fits',clobber=True)\n",
    "out = fits.HDUList([fits.PrimaryHDU(data=cubeRGB[1,:,:])])\n",
    "out.writeto('G.fits',clobber=True)\n",
    "out = fits.HDUList([fits.PrimaryHDU(data=cubeRGB[2,:,:])])\n",
    "out.writeto('B.fits',clobber=True)\n"
   ]
  },
  {
   "cell_type": "code",
   "execution_count": null,
   "metadata": {
    "collapsed": false
   },
   "outputs": [],
   "source": []
  },
  {
   "cell_type": "code",
   "execution_count": null,
   "metadata": {
    "collapsed": true
   },
   "outputs": [],
   "source": []
  },
  {
   "cell_type": "code",
   "execution_count": null,
   "metadata": {
    "collapsed": true
   },
   "outputs": [],
   "source": []
  }
 ],
 "metadata": {
  "anaconda-cloud": {},
  "kernelspec": {
   "display_name": "Python [conda root]",
   "language": "python",
   "name": "conda-root-py"
  },
  "language_info": {
   "codemirror_mode": {
    "name": "ipython",
    "version": 3
   },
   "file_extension": ".py",
   "mimetype": "text/x-python",
   "name": "python",
   "nbconvert_exporter": "python",
   "pygments_lexer": "ipython3",
   "version": "3.5.2"
  }
 },
 "nbformat": 4,
 "nbformat_minor": 1
}
