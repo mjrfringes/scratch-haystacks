{
 "cells": [
  {
   "cell_type": "code",
   "execution_count": 1,
   "metadata": {
    "collapsed": true
   },
   "outputs": [],
   "source": [
    "from astropy.io import fits\n",
    "import numpy as np\n",
    "import astropy.units as u\n",
    "import astropy.constants as const\n"
   ]
  },
  {
   "cell_type": "code",
   "execution_count": 2,
   "metadata": {
    "collapsed": false
   },
   "outputs": [],
   "source": [
    "filename = 'cube_zodi1inc0dist3_epoch25.7300_sres150.000_0.6um.fits'\n",
    "cube = fits.open(filename)[0].data\n",
    "\n",
    "maxlam = 1.2\n",
    "minlam = 0.6\n",
    "R = 150\n",
    "dlam = (maxlam+minlam)/2./R\n",
    "lamlist = np.arange(minlam,maxlam,dlam)\n",
    "dist_pc = 3\n",
    "pix_scale_au = 0.057*dist_pc/4\n",
    "asec_per_pix = pix_scale_au/dist_pc\n",
    "res_asec = 0.057\n",
    "OWA_880 = 0.076*20\n",
    "OWA_pix = OWA_880/asec_per_pix\n"
   ]
  },
  {
   "cell_type": "code",
   "execution_count": 3,
   "metadata": {
    "collapsed": true
   },
   "outputs": [],
   "source": [
    "cube = cube*u.Jy"
   ]
  },
  {
   "cell_type": "code",
   "execution_count": null,
   "metadata": {
    "collapsed": true
   },
   "outputs": [],
   "source": []
  },
  {
   "cell_type": "code",
   "execution_count": null,
   "metadata": {
    "collapsed": true
   },
   "outputs": [],
   "source": []
  },
  {
   "cell_type": "code",
   "execution_count": 4,
   "metadata": {
    "collapsed": false
   },
   "outputs": [],
   "source": [
    "minlam661 = (0.661-0.061/2.)*u.micron\n",
    "maxlam661 = (0.661+0.061/2.)*u.micron\n",
    "minlam721 = (0.721-0.036/2.)*u.micron\n",
    "maxlam721 = (0.721+0.036/2.)*u.micron\n",
    "minlam890 = (0.890-0.0445/2.)*u.micron\n",
    "maxlam890 = (0.890+0.0445/2.)*u.micron\n",
    "F661 = cube[np.where((lamlist>minlam661.value)*(lamlist<maxlam661.value))[0],:,:]\n",
    "F721 = cube[np.where((lamlist>minlam721.value)*(lamlist<maxlam721.value))[0],:,:]\n",
    "F890 = cube[np.where((lamlist>minlam890.value)*(lamlist<maxlam890.value))[0],:,:]\n",
    "F661_flat = np.mean(F661,axis=0)\n",
    "F721_flat = np.mean(F721,axis=0)\n",
    "F890_flat = np.mean(F890,axis=0)"
   ]
  },
  {
   "cell_type": "code",
   "execution_count": null,
   "metadata": {
    "collapsed": false
   },
   "outputs": [],
   "source": []
  },
  {
   "cell_type": "markdown",
   "metadata": {
    "collapsed": false
   },
   "source": [
    "### Crop image and convert to photons per second    "
   ]
  },
  {
   "cell_type": "code",
   "execution_count": 5,
   "metadata": {
    "collapsed": false
   },
   "outputs": [
    {
     "name": "stdout",
     "output_type": "stream",
     "text": [
      "301 301\n"
     ]
    },
    {
     "name": "stderr",
     "output_type": "stream",
     "text": [
      "/local/data/nicolaus2/mrizzo/anaconda3/lib/python3.5/site-packages/astropy/units/quantity.py:913: VisibleDeprecationWarning: using a non-integer number instead of an integer will result in an error in the future\n",
      "  out = super(Quantity, self).__getitem__(key)\n"
     ]
    }
   ],
   "source": [
    "\n",
    "xdim,ydim = F661_flat.shape\n",
    "print (xdim,ydim)\n",
    "xmin = xdim/2-OWA_pix\n",
    "xmax = xdim/2+OWA_pix\n",
    "ymin = ydim/2-OWA_pix\n",
    "ymax = ydim/2+OWA_pix\n",
    "F661 = F661_flat[xmin:xmax,ymin:ymax]\n",
    "F721 = F721_flat[xmin:xmax,ymin:ymax]\n",
    "F890 = F890_flat[xmin:xmax,ymin:ymax]\n",
    "\n",
    "\n",
    "dnu661 = (const.c/minlam661).to(u.Hz) - (const.c/maxlam661).to(u.Hz)\n",
    "dnu721 = (const.c/minlam721).to(u.Hz) - (const.c/maxlam721).to(u.Hz)\n",
    "dnu890 = (const.c/minlam890).to(u.Hz) - (const.c/maxlam890).to(u.Hz)\n",
    "ep661 = (const.h*const.c/(661*u.nm)).to(u.J)\n",
    "ep721 = (const.h*const.c/(721*u.nm)).to(u.J)\n",
    "ep890 = (const.h*const.c/(890*u.nm)).to(u.J)\n",
    "A = np.pi*(2.4*u.m)**2/4.\n",
    "F661*=dnu661/ep661*A\n",
    "F721*=dnu721/ep721*A\n",
    "F890*=dnu890/ep890*A\n",
    "F661=F661.to(u.Hz)\n",
    "F721=F721.to(u.Hz)\n",
    "F890=F890.to(u.Hz)\n",
    "\n",
    "export = np.zeros((3,F661.shape[0],F661.shape[1]))\n",
    "export [0,:,:] += F661.value\n",
    "export [1,:,:] += F721.value\n",
    "export [2,:,:] += F890.value\n"
   ]
  },
  {
   "cell_type": "code",
   "execution_count": 6,
   "metadata": {
    "collapsed": false
   },
   "outputs": [
    {
     "data": {
      "text/plain": [
       "(214, 214)"
      ]
     },
     "execution_count": 6,
     "metadata": {},
     "output_type": "execute_result"
    }
   ],
   "source": [
    "F661.shape"
   ]
  },
  {
   "cell_type": "code",
   "execution_count": 7,
   "metadata": {
    "collapsed": false
   },
   "outputs": [],
   "source": [
    "out = fits.PrimaryHDU(F661.value)\n",
    "out.writeto('F661.fits',clobber=True)\n",
    "out = fits.PrimaryHDU(export)\n",
    "out.writeto(filename+'proc.fits',clobber=True)\n",
    "out = fits.PrimaryHDU(F721.value)\n",
    "out.writeto('F721.fits',clobber=True)\n",
    "out = fits.PrimaryHDU(F890.value)\n",
    "out.writeto('F890.fits',clobber=True)"
   ]
  },
  {
   "cell_type": "code",
   "execution_count": null,
   "metadata": {
    "collapsed": true
   },
   "outputs": [],
   "source": []
  },
  {
   "cell_type": "code",
   "execution_count": 8,
   "metadata": {
    "collapsed": false
   },
   "outputs": [
    {
     "name": "stdout",
     "output_type": "stream",
     "text": [
      "Populating the interactive namespace from numpy and matplotlib\n"
     ]
    }
   ],
   "source": [
    "%pylab inline --no-import-all\n",
    "matplotlib.rcParams['image.origin'] = 'lower'\n",
    "matplotlib.rcParams['image.interpolation'] = 'nearest'"
   ]
  },
  {
   "cell_type": "code",
   "execution_count": 9,
   "metadata": {
    "collapsed": true
   },
   "outputs": [],
   "source": [
    "import os\n",
    "#os.environ['WEBBPSF_PATH'] = os.path.expanduser('~/STScI/WFIRST/webbpsf-data')\n",
    "import webbpsf\n",
    "from webbpsf import wfirst\n",
    "import ipywidgets\n",
    "import poppy.utils as utils\n",
    "import poppy\n",
    "import logging as log"
   ]
  },
  {
   "cell_type": "code",
   "execution_count": 10,
   "metadata": {
    "collapsed": false
   },
   "outputs": [
    {
     "name": "stdout",
     "output_type": "stream",
     "text": [
      "WebbPSF log messages of level ERROR and above will be shown.\n",
      "WebbPSF log outputs will be directed to the screen.\n"
     ]
    }
   ],
   "source": [
    "webbpsf.setup_logging('ERROR') # Reduced verbosity"
   ]
  },
  {
   "cell_type": "code",
   "execution_count": 11,
   "metadata": {
    "collapsed": true
   },
   "outputs": [],
   "source": [
    "def xy_to_psf(x, y, quad_cube):\n",
    "    hw = quad_cube.shape[-1] // 2\n",
    "    if x >= hw and y >= hw: # in first quadrant\n",
    "        s = (y - hw)*hw + (x - hw)\n",
    "        return quad_cube[s]\n",
    "    elif x < hw and y >= hw: # second quadrant\n",
    "        s = (y - hw)*hw + (hw - x - 1)\n",
    "        return quad_cube[s,:,::-1]\n",
    "    elif x < hw and y < hw: # third quadrant\n",
    "        s = (hw - y - 1)*hw + (hw - x - 1)\n",
    "        return quad_cube[s,::-1,::-1]\n",
    "    else:                 # fourth quadrant\n",
    "        s = (hw - y - 1)*hw + (x - hw)\n",
    "        return quad_cube[s,::-1,:]"
   ]
  },
  {
   "cell_type": "code",
   "execution_count": 12,
   "metadata": {
    "collapsed": false
   },
   "outputs": [
    {
     "name": "stdout",
     "output_type": "stream",
     "text": [
      "10.0% bandpass centered at 661.0 nm\n",
      "System diffraction resolution element scale (lambda_0/D): 0.05681 arcsec\n"
     ]
    }
   ],
   "source": [
    "fov = 3.4 # arcsec\n",
    "cgi_mode = 'DISKSPC_F661'\n",
    "#cgi_mode = 'DISKSPC_F72\n",
    "#cgi_mode = 'DISKSPC_F883'\n",
    "\n",
    "diskspc = wfirst.CGI(mode=cgi_mode)\n",
    "diskspc.options['source_offset_r'] = 0 # arcsec\n",
    "diskspc.options['source_offset_theta'] = 0 # deg w.r.t. North\n",
    "\n",
    "filter_fname = diskspc._filters[diskspc.filter].filename\n",
    "filter_hdulist = fits.open(filter_fname)\n",
    "wave_beg = (float(filter_hdulist[1].header.get('LAMBDA0')) - float(filter_hdulist[1].header.get('DELTALAM'))/2)\n",
    "wave_end = (float(filter_hdulist[1].header.get('LAMBDA0')) + float(filter_hdulist[1].header.get('DELTALAM'))/2)\n",
    "\n",
    "print('{:.1f}% bandpass centered at {:.1f} nm'.format(\n",
    "100*float(filter_hdulist[1].header.get('DELTALAM'))/float(filter_hdulist[1].header.get('LAMBDA0')),\n",
    "float(filter_hdulist[1].header.get('LAMBDA0'))/10))\n",
    "\n",
    "lamoD_asec_F661 = float(filter_hdulist[1].header.get('LAMBDA0'))*1e-10/(2*diskspc.PUPIL_RADIUS) * 180/np.pi * 3600\n",
    "print(\"System diffraction resolution element scale (lambda_0/D): %.5f arcsec\" % lamoD_asec_F661)"
   ]
  },
  {
   "cell_type": "code",
   "execution_count": 13,
   "metadata": {
    "collapsed": true
   },
   "outputs": [],
   "source": [
    "cgi_mode = 'DISKSPC_F661'\n",
    "#cgi_mode = 'DISKSPC_F721'\n",
    "#cgi_mode = 'DISKSPC_F883'\n",
    "\n",
    "diskspc = wfirst.CGI(mode=cgi_mode, pixelscale=lamoD_asec_F661, fov_arcsec=fov)"
   ]
  },
  {
   "cell_type": "markdown",
   "metadata": {},
   "source": [
    "# Load input cube"
   ]
  },
  {
   "cell_type": "code",
   "execution_count": 14,
   "metadata": {
    "collapsed": false
   },
   "outputs": [
    {
     "name": "stdout",
     "output_type": "stream",
     "text": [
      "[  3.74777644e+09   2.11167963e+09   2.16418894e+09]\n",
      "(3, 212, 212)\n"
     ]
    },
    {
     "data": {
      "text/plain": [
       "<matplotlib.text.Text at 0x7f683f537048>"
      ]
     },
     "execution_count": 14,
     "metadata": {},
     "output_type": "execute_result"
    },
    {
     "data": {
      "image/png": "[encoded data removed]",
      "text/plain": [
       "<matplotlib.figure.Figure at 0x7f68419daf60>"
      ]
     },
     "metadata": {},
     "output_type": "display_data"
    }
   ],
   "source": [
    "haystacks = fits.open(filename+'proc.fits')\n",
    "\n",
    "#define adjustable cropping factor\n",
    "border=1\n",
    "input_cube = haystacks[0].data[:,border:-border,border:-border]#[:,90:-90,90:-90]#[:2,580:-580,580:-580]\n",
    "\n",
    "haystacks[0].header[\"INFITS\"] = filename+'proc.fits'\n",
    "haystacks[0].header[\"PIXELSCL\"] = asec_per_pix\n",
    "haystacks[0].header[\"BUNIT\"] = \"Jy\"\n",
    "\n",
    "#location of center from Ds9 inspection\n",
    "'''\n",
    "DS9 coordinate notes, corners are from 0.5-213.5 and center is at 108.\n",
    "\n",
    "in numpy coordinates the center is at 107,107\n",
    "\n",
    "'''\n",
    "\n",
    "center = (107-border)\n",
    "print(input_cube[:,center,center])\n",
    "print(input_cube.shape)\n",
    "\n",
    "# find parameters:\n",
    "dim = input_cube.shape\n",
    "\n",
    "ny = dim[1]\n",
    "nx = dim[2]\n",
    "haystacks[0].header\n",
    "\n",
    "\n",
    "\n",
    "haystack_1stBand = fits.HDUList([fits.PrimaryHDU(input_cube[0],\n",
    "                                                 header=haystacks[0].header)])\n",
    "ax=plt.subplot(111)\n",
    "poppy.display_PSF(haystack_1stBand,\n",
    "                  interpolation='nearest',ax=ax)\n",
    "circle2 = plt.Circle((0.015, 0.015), 0.057*6, color='black', fill=False,alpha=0.3)\n",
    "circle3 = plt.Circle((0.015, 0.015), 0.057*20, color='black', fill=False,alpha=0.3)\n",
    "\n",
    "ax.add_artist(circle2)\n",
    "ax.add_artist(circle3)\n",
    "\n",
    "\n",
    "plt.title(\"First band of data cube\")\n",
    "\n"
   ]
  },
  {
   "cell_type": "markdown",
   "metadata": {},
   "source": []
  },
  {
   "cell_type": "code",
   "execution_count": 15,
   "metadata": {
    "collapsed": false
   },
   "outputs": [
    {
     "name": "stdout",
     "output_type": "stream",
     "text": [
      "[ 0.  0.  0.]\n"
     ]
    }
   ],
   "source": [
    "contrast_floor=1e-11\n",
    "# thresh=contrast_floor*input_cube[:,center,center]\n",
    "thresh=np.zeros(3)\n",
    "# n_thresh=[cube[np.where(input_cube[i]>thresh[i])].size for i in range(len(thresh))]\n",
    "print (thresh)"
   ]
  },
  {
   "cell_type": "code",
   "execution_count": 16,
   "metadata": {
    "collapsed": false
   },
   "outputs": [
    {
     "data": {
      "text/plain": [
       "<matplotlib.colorbar.Colorbar at 0x7f683f0d7240>"
      ]
     },
     "execution_count": 16,
     "metadata": {},
     "output_type": "execute_result"
    },
    {
     "data": {
      "image/png": "[encoded data removed]",
      "text/plain": [
       "<matplotlib.figure.Figure at 0x7f68419d29e8>"
      ]
     },
     "metadata": {},
     "output_type": "display_data"
    }
   ],
   "source": [
    "plt.figure(figsize=[9,4])\n",
    "plt.subplot(121)\n",
    "plt.title(\"cropped array\")\n",
    "plt.imshow(np.log10(input_cube[0]),\n",
    "           cmap=plt.cm.gnuplot,\n",
    "           origin = 'lower',\n",
    "           interpolation='nearest')\n",
    "plt.colorbar()\n",
    "plt.subplot(122)\n",
    "plt.title(\"values about threshold\")\n",
    "plt.imshow(input_cube[0],cmap=plt.cm.gnuplot,\n",
    "           interpolation='nearest',\n",
    "           vmin=thresh[0],\n",
    "           origin = 'lower',vmax=1)\n",
    "plt.colorbar()\n"
   ]
  },
  {
   "cell_type": "markdown",
   "metadata": {},
   "source": []
  },
  {
   "cell_type": "code",
   "execution_count": null,
   "metadata": {
    "collapsed": true
   },
   "outputs": [],
   "source": [
    "mode_list = ['DISKSPC_F661','DISKSPC_F721','DISKSPC_F883']\n",
    "lib_list = ['offax_psf_map_DISKSPC_F661.fits.gz','offax_psf_map_DISKSPC_F721.fits.gz','offax_psf_map_DISKSPC_F883.fits.gz']"
   ]
  },
  {
   "cell_type": "code",
   "execution_count": null,
   "metadata": {
    "collapsed": false,
    "scrolled": true
   },
   "outputs": [
    {
     "name": "stdout",
     "output_type": "stream",
     "text": [
      "Processing mode DISKSPC_F661\n"
     ]
    }
   ],
   "source": [
    "wavelength_imgs = []\n",
    "on_axis_psfs=[]\n",
    "\n",
    "\n",
    "for i in range(len(mode_list)):\n",
    "    mode = mode_list[i]\n",
    "    print('Processing mode ' + mode)\n",
    "    # same scale for all bands\n",
    "    diskspc = wfirst.CGI(mode=mode, pixelscale=lamoD_asec_F661, fov_arcsec=fov)\n",
    "    proto_psf = diskspc.calc_psf(display=False, fov_arcsec=fov)\n",
    "    inputImage = input_cube[i,:,:]\n",
    "    \n",
    "    proto_psf[0].data = inputImage[center,center]*proto_psf[0].data\n",
    "    on_axis_psfs.append(proto_psf)\n",
    "    \n",
    "    # load library of PSFs for this filter\n",
    "    libpsf = fits.getdata(lib_list[i])\n",
    "    \n",
    "    outputImage = np.zeros(proto_psf[0].data.shape)\n",
    "    \n",
    "    center_lib_psf = 240\n",
    "\n",
    "    \n",
    "    # now loop over all relevant pixels\n",
    "    for x in range(-nx//2,-nx//2+nx):\n",
    "        for y in range(-ny//2,-ny//2+ny):\n",
    "#             r = np.sqrt(x**2+y**2)*\n",
    "#             if inputImage[y+center,x+center] < thresh[i] or (x==0)*(y==0):\n",
    "#                 continue\n",
    "            psf = xy_to_psf(x+center_lib_psf//2,y+center_lib_psf//2,libpsf)\n",
    "            outputImage += inputImage[y+center,x+center]*psf\n",
    "            \n",
    "    wavelength_imgs.append(outputImage)\n",
    "outcube = np.zeros((3,wavelength_imgs[0].shape[0],wavelength_imgs[0].shape[1]))    \n"
   ]
  },
  {
   "cell_type": "code",
   "execution_count": null,
   "metadata": {
    "collapsed": true
   },
   "outputs": [],
   "source": [
    "for i in range(len(mode_list)):\n",
    "    outcube[2-i,:,:] = wavelength_imgs[i]-on_axis_psfs[i][0].data    \n",
    "out = fits.HDUList([fits.PrimaryHDU(data=outcube)])\n",
    "out.writeto(filename+'final.fits',clobber=True)"
   ]
  },
  {
   "cell_type": "code",
   "execution_count": null,
   "metadata": {
    "collapsed": true
   },
   "outputs": [],
   "source": []
  },
  {
   "cell_type": "code",
   "execution_count": null,
   "metadata": {
    "collapsed": false
   },
   "outputs": [],
   "source": []
  },
  {
   "cell_type": "code",
   "execution_count": null,
   "metadata": {
    "collapsed": false
   },
   "outputs": [],
   "source": []
  },
  {
   "cell_type": "code",
   "execution_count": null,
   "metadata": {
    "collapsed": false
   },
   "outputs": [],
   "source": []
  },
  {
   "cell_type": "code",
   "execution_count": null,
   "metadata": {
    "collapsed": false
   },
   "outputs": [],
   "source": []
  },
  {
   "cell_type": "code",
   "execution_count": null,
   "metadata": {
    "collapsed": true
   },
   "outputs": [],
   "source": []
  },
  {
   "cell_type": "code",
   "execution_count": null,
   "metadata": {
    "collapsed": true
   },
   "outputs": [],
   "source": []
  }
 ],
 "metadata": {
  "anaconda-cloud": {},
  "kernelspec": {
   "display_name": "Python [conda root]",
   "language": "python",
   "name": "conda-root-py"
  },
  "language_info": {
   "codemirror_mode": {
    "name": "ipython",
    "version": 3
   },
   "file_extension": ".py",
   "mimetype": "text/x-python",
   "name": "python",
   "nbconvert_exporter": "python",
   "pygments_lexer": "ipython3",
   "version": "3.5.2"
  }
 },
 "nbformat": 4,
 "nbformat_minor": 1
}
